{
  "nbformat": 4,
  "nbformat_minor": 0,
  "metadata": {
    "colab": {
      "name": "macab.ipynb",
      "version": "0.3.2",
      "views": {},
      "default_view": {},
      "provenance": []
    },
    "kernelspec": {
      "name": "python3",
      "display_name": "Python 3"
    }
  },
  "cells": [
    {
      "metadata": {
        "id": "UB5JpAj0vTb9",
        "colab_type": "text"
      },
      "cell_type": "markdown",
      "source": [
        "## Mecabをインストール"
      ]
    },
    {
      "metadata": {
        "id": "DtL4hVDDQdVy",
        "colab_type": "code",
        "colab": {
          "autoexec": {
            "startup": false,
            "wait_interval": 0
          },
          "output_extras": [
            {
              "item_id": 17
            },
            {
              "item_id": 24
            },
            {
              "item_id": 34
            },
            {
              "item_id": 57
            },
            {
              "item_id": 76
            },
            {
              "item_id": 97
            }
          ],
          "base_uri": "https://localhost:8080/",
          "height": 6344
        },
        "outputId": "4eb01c9b-c81c-424f-8288-afcc991dc364",
        "executionInfo": {
          "status": "ok",
          "timestamp": 1522591570033,
          "user_tz": -540,
          "elapsed": 101702,
          "user": {
            "displayName": "Hideto Masuoka",
            "photoUrl": "//lh3.googleusercontent.com/-Y7n_AGUpC1c/AAAAAAAAAAI/AAAAAAAAAKw/44zYMMtU6PY/s50-c-k-no/photo.jpg",
            "userId": "110996608761765296178"
          }
        }
      },
      "cell_type": "code",
      "source": [
        "!apt install aptitude\n",
        "!aptitude install mecab libmecab-dev mecab-ipadic-utf8 git make curl xz-utils file -y\n",
        "!pip install mecab-python3"
      ],
      "execution_count": 1,
      "outputs": [
        {
          "output_type": "stream",
          "text": [
            "Reading package lists... Done\n",
            "Building dependency tree       \n",
            "Reading state information... Done\n",
            "The following additional packages will be installed:\n",
            "  aptitude-common libboost-filesystem1.62.0 libboost-iostreams1.62.0\n",
            "  libboost-system1.62.0 libcgi-fast-perl libcgi-pm-perl libclass-accessor-perl\n",
            "  libcwidget3v5 libencode-locale-perl libfcgi-perl libhtml-parser-perl\n",
            "  libhtml-tagset-perl libhttp-date-perl libhttp-message-perl libio-html-perl\n",
            "  libio-string-perl liblocale-gettext-perl liblwp-mediatypes-perl\n",
            "  libparse-debianchangelog-perl libsigc++-2.0-0v5 libsub-name-perl\n",
            "  libtimedate-perl liburi-perl libxapian30\n",
            "Suggested packages:\n",
            "  aptitude-doc-en | aptitude-doc apt-xapian-index debtags tasksel\n",
            "  libcwidget-dev libdata-dump-perl libhtml-template-perl libxml-simple-perl\n",
            "  libwww-perl xapian-tools\n",
            "The following NEW packages will be installed:\n",
            "  aptitude aptitude-common libboost-filesystem1.62.0 libboost-iostreams1.62.0\n",
            "  libboost-system1.62.0 libcgi-fast-perl libcgi-pm-perl libclass-accessor-perl\n",
            "  libcwidget3v5 libencode-locale-perl libfcgi-perl libhtml-parser-perl\n",
            "  libhtml-tagset-perl libhttp-date-perl libhttp-message-perl libio-html-perl\n",
            "  libio-string-perl liblocale-gettext-perl liblwp-mediatypes-perl\n",
            "  libparse-debianchangelog-perl libsigc++-2.0-0v5 libsub-name-perl\n",
            "  libtimedate-perl liburi-perl libxapian30\n",
            "0 upgraded, 25 newly installed, 0 to remove and 0 not upgraded.\n",
            "Need to get 3,987 kB of archives.\n",
            "After this operation, 16.0 MB of additional disk space will be used.\n",
            "Get:1 http://archive.ubuntu.com/ubuntu artful/main amd64 liblocale-gettext-perl amd64 1.07-3build2 [16.6 kB]\n",
            "Get:2 http://archive.ubuntu.com/ubuntu artful/main amd64 aptitude-common all 0.8.3-1ubuntu4 [835 kB]\n",
            "Get:3 http://archive.ubuntu.com/ubuntu artful/main amd64 libboost-system1.62.0 amd64 1.62.0+dfsg-4build3 [9,212 B]\n",
            "Get:4 http://archive.ubuntu.com/ubuntu artful/main amd64 libboost-filesystem1.62.0 amd64 1.62.0+dfsg-4build3 [38.6 kB]\n",
            "Get:5 http://archive.ubuntu.com/ubuntu artful/main amd64 libboost-iostreams1.62.0 amd64 1.62.0+dfsg-4build3 [27.4 kB]\n",
            "Get:6 http://archive.ubuntu.com/ubuntu artful/main amd64 libsigc++-2.0-0v5 amd64 2.10.0-1 [10.8 kB]\n",
            "Get:7 http://archive.ubuntu.com/ubuntu artful/main amd64 libcwidget3v5 amd64 0.5.17-6 [291 kB]\n",
            "Get:8 http://archive.ubuntu.com/ubuntu artful/main amd64 libxapian30 amd64 1.4.4-2 [641 kB]\n",
            "Get:9 http://archive.ubuntu.com/ubuntu artful/main amd64 aptitude amd64 0.8.3-1ubuntu4 [1,446 kB]\n",
            "Get:10 http://archive.ubuntu.com/ubuntu artful/main amd64 libhtml-tagset-perl all 3.20-3 [12.1 kB]\n",
            "Get:11 http://archive.ubuntu.com/ubuntu artful/main amd64 liburi-perl all 1.72-1 [76.6 kB]\n",
            "Get:12 http://archive.ubuntu.com/ubuntu artful/main amd64 libhtml-parser-perl amd64 3.72-3build1 [85.9 kB]\n",
            "Get:13 http://archive.ubuntu.com/ubuntu artful/main amd64 libcgi-pm-perl all 4.36-1 [185 kB]\n",
            "Get:14 http://archive.ubuntu.com/ubuntu artful/main amd64 libfcgi-perl amd64 0.78-2build1 [32.8 kB]\n",
            "Get:15 http://archive.ubuntu.com/ubuntu artful/main amd64 libcgi-fast-perl all 1:2.12-1 [9,754 B]\n",
            "Get:16 http://archive.ubuntu.com/ubuntu artful/main amd64 libsub-name-perl amd64 0.21-1build1 [11.6 kB]\n",
            "Get:17 http://archive.ubuntu.com/ubuntu artful/main amd64 libclass-accessor-perl all 0.34-1 [26.0 kB]\n",
            "Get:18 http://archive.ubuntu.com/ubuntu artful/main amd64 libencode-locale-perl all 1.05-1 [12.3 kB]\n",
            "Get:19 http://archive.ubuntu.com/ubuntu artful/main amd64 libtimedate-perl all 2.3000-2 [37.5 kB]\n",
            "Get:20 http://archive.ubuntu.com/ubuntu artful/main amd64 libhttp-date-perl all 6.02-1 [10.4 kB]\n",
            "Get:21 http://archive.ubuntu.com/ubuntu artful/main amd64 libio-html-perl all 1.001-1 [14.9 kB]\n",
            "Get:22 http://archive.ubuntu.com/ubuntu artful/main amd64 liblwp-mediatypes-perl all 6.02-1 [21.7 kB]\n",
            "Get:23 http://archive.ubuntu.com/ubuntu artful/main amd64 libhttp-message-perl all 6.11-1 [74.3 kB]\n",
            "Get:24 http://archive.ubuntu.com/ubuntu artful/main amd64 libio-string-perl all 1.08-3 [11.1 kB]\n",
            "Get:25 http://archive.ubuntu.com/ubuntu artful/main amd64 libparse-debianchangelog-perl all 1.2.0-12 [49.5 kB]\n",
            "Fetched 3,987 kB in 1s (2,164 kB/s)\n",
            "\n",
            "\u001b7\u001b[0;23r\u001b8\u001b[1ASelecting previously unselected package liblocale-gettext-perl.\n",
            "(Reading database ... 16712 files and directories currently installed.)\n",
            "Preparing to unpack .../00-liblocale-gettext-perl_1.07-3build2_amd64.deb ...\n",
            "\u001b7\u001b[24;0f\u001b[42m\u001b[30mProgress: [  0%]\u001b[49m\u001b[39m [..........................................................] \u001b8Unpacking liblocale-gettext-perl (1.07-3build2) ...\n",
            "\u001b7\u001b[24;0f\u001b[42m\u001b[30mProgress: [  1%]\u001b[49m\u001b[39m [..........................................................] \u001b8\u001b7\u001b[24;0f\u001b[42m\u001b[30mProgress: [  2%]\u001b[49m\u001b[39m [#.........................................................] \u001b8Selecting previously unselected package aptitude-common.\n",
            "Preparing to unpack .../01-aptitude-common_0.8.3-1ubuntu4_all.deb ...\n",
            "\u001b7\u001b[24;0f\u001b[42m\u001b[30mProgress: [  3%]\u001b[49m\u001b[39m [#.........................................................] \u001b8Unpacking aptitude-common (0.8.3-1ubuntu4) ...\n",
            "\u001b7\u001b[24;0f\u001b[42m\u001b[30mProgress: [  4%]\u001b[49m\u001b[39m [##........................................................] \u001b8Selecting previously unselected package libboost-system1.62.0:amd64.\n",
            "Preparing to unpack .../02-libboost-system1.62.0_1.62.0+dfsg-4build3_amd64.deb ...\n",
            "\u001b7\u001b[24;0f\u001b[42m\u001b[30mProgress: [  5%]\u001b[49m\u001b[39m [###.......................................................] \u001b8Unpacking libboost-system1.62.0:amd64 (1.62.0+dfsg-4build3) ...\n",
            "\u001b7\u001b[24;0f\u001b[42m\u001b[30mProgress: [  6%]\u001b[49m\u001b[39m [###.......................................................] \u001b8\u001b7\u001b[24;0f\u001b[42m\u001b[30mProgress: [  7%]\u001b[49m\u001b[39m [####......................................................] \u001b8Selecting previously unselected package libboost-filesystem1.62.0:amd64.\n",
            "Preparing to unpack .../03-libboost-filesystem1.62.0_1.62.0+dfsg-4build3_amd64.deb ...\n",
            "Unpacking libboost-filesystem1.62.0:amd64 (1.62.0+dfsg-4build3) ...\n",
            "\u001b7\u001b[24;0f\u001b[42m\u001b[30mProgress: [  8%]\u001b[49m\u001b[39m [#####.....................................................] \u001b8\u001b7\u001b[24;0f\u001b[42m\u001b[30mProgress: [  9%]\u001b[49m\u001b[39m [#####.....................................................] \u001b8Selecting previously unselected package libboost-iostreams1.62.0:amd64.\n",
            "Preparing to unpack .../04-libboost-iostreams1.62.0_1.62.0+dfsg-4build3_amd64.deb ...\n",
            "\u001b7\u001b[24;0f\u001b[42m\u001b[30mProgress: [ 10%]\u001b[49m\u001b[39m [#####.....................................................] \u001b8Unpacking libboost-iostreams1.62.0:amd64 (1.62.0+dfsg-4build3) ...\n",
            "\u001b7\u001b[24;0f\u001b[42m\u001b[30mProgress: [ 11%]\u001b[49m\u001b[39m [######....................................................] \u001b8Selecting previously unselected package libsigc++-2.0-0v5:amd64.\n",
            "Preparing to unpack .../05-libsigc++-2.0-0v5_2.10.0-1_amd64.deb ...\n",
            "\u001b7\u001b[24;0f\u001b[42m\u001b[30mProgress: [ 12%]\u001b[49m\u001b[39m [#######...................................................] \u001b8Unpacking libsigc++-2.0-0v5:amd64 (2.10.0-1) ...\n",
            "\u001b7\u001b[24;0f\u001b[42m\u001b[30mProgress: [ 13%]\u001b[49m\u001b[39m [#######...................................................] \u001b8\u001b7\u001b[24;0f\u001b[42m\u001b[30mProgress: [ 14%]\u001b[49m\u001b[39m [########..................................................] \u001b8Selecting previously unselected package libcwidget3v5:amd64.\n",
            "Preparing to unpack .../06-libcwidget3v5_0.5.17-6_amd64.deb ...\n",
            "\u001b7\u001b[24;0f\u001b[42m\u001b[30mProgress: [ 15%]\u001b[49m\u001b[39m [########..................................................] \u001b8Unpacking libcwidget3v5:amd64 (0.5.17-6) ...\n",
            "\u001b7\u001b[24;0f\u001b[42m\u001b[30mProgress: [ 16%]\u001b[49m\u001b[39m [#########.................................................] \u001b8Selecting previously unselected package libxapian30:amd64.\n",
            "Preparing to unpack .../07-libxapian30_1.4.4-2_amd64.deb ...\n",
            "\u001b7\u001b[24;0f\u001b[42m\u001b[30mProgress: [ 17%]\u001b[49m\u001b[39m [##########................................................] \u001b8Unpacking libxapian30:amd64 (1.4.4-2) ...\n"
          ],
          "name": "stdout"
        },
        {
          "output_type": "stream",
          "text": [
            "\u001b7\u001b[24;0f\u001b[42m\u001b[30mProgress: [ 18%]\u001b[49m\u001b[39m [##########................................................] \u001b8\u001b7\u001b[24;0f\u001b[42m\u001b[30mProgress: [ 19%]\u001b[49m\u001b[39m [###########...............................................] \u001b8Selecting previously unselected package aptitude.\n",
            "Preparing to unpack .../08-aptitude_0.8.3-1ubuntu4_amd64.deb ...\n",
            "Unpacking aptitude (0.8.3-1ubuntu4) ...\n",
            "\u001b7\u001b[24;0f\u001b[42m\u001b[30mProgress: [ 20%]\u001b[49m\u001b[39m [###########...............................................] \u001b8\u001b7\u001b[24;0f\u001b[42m\u001b[30mProgress: [ 21%]\u001b[49m\u001b[39m [############..............................................] \u001b8Selecting previously unselected package libhtml-tagset-perl.\n",
            "Preparing to unpack .../09-libhtml-tagset-perl_3.20-3_all.deb ...\n",
            "\u001b7\u001b[24;0f\u001b[42m\u001b[30mProgress: [ 22%]\u001b[49m\u001b[39m [############..............................................] \u001b8Unpacking libhtml-tagset-perl (3.20-3) ...\n",
            "\u001b7\u001b[24;0f\u001b[42m\u001b[30mProgress: [ 23%]\u001b[49m\u001b[39m [#############.............................................] \u001b8Selecting previously unselected package liburi-perl.\n",
            "Preparing to unpack .../10-liburi-perl_1.72-1_all.deb ...\n",
            "\u001b7\u001b[24;0f\u001b[42m\u001b[30mProgress: [ 24%]\u001b[49m\u001b[39m [##############............................................] \u001b8Unpacking liburi-perl (1.72-1) ...\n",
            "\u001b7\u001b[24;0f\u001b[42m\u001b[30mProgress: [ 25%]\u001b[49m\u001b[39m [##############............................................] \u001b8\u001b7\u001b[24;0f\u001b[42m\u001b[30mProgress: [ 26%]\u001b[49m\u001b[39m [###############...........................................] \u001b8Selecting previously unselected package libhtml-parser-perl.\n",
            "Preparing to unpack .../11-libhtml-parser-perl_3.72-3build1_amd64.deb ...\n",
            "Unpacking libhtml-parser-perl (3.72-3build1) ...\n",
            "\u001b7\u001b[24;0f\u001b[42m\u001b[30mProgress: [ 27%]\u001b[49m\u001b[39m [################..........................................] \u001b8\u001b7\u001b[24;0f\u001b[42m\u001b[30mProgress: [ 28%]\u001b[49m\u001b[39m [################..........................................] \u001b8Selecting previously unselected package libcgi-pm-perl.\n",
            "Preparing to unpack .../12-libcgi-pm-perl_4.36-1_all.deb ...\n",
            "\u001b7\u001b[24;0f\u001b[42m\u001b[30mProgress: [ 29%]\u001b[49m\u001b[39m [#################.........................................] \u001b8Unpacking libcgi-pm-perl (4.36-1) ...\n",
            "\u001b7\u001b[24;0f\u001b[42m\u001b[30mProgress: [ 30%]\u001b[49m\u001b[39m [#################.........................................] \u001b8Selecting previously unselected package libfcgi-perl.\n",
            "Preparing to unpack .../13-libfcgi-perl_0.78-2build1_amd64.deb ...\n",
            "\u001b7\u001b[24;0f\u001b[42m\u001b[30mProgress: [ 31%]\u001b[49m\u001b[39m [##################........................................] \u001b8Unpacking libfcgi-perl (0.78-2build1) ...\n",
            "\u001b7\u001b[24;0f\u001b[42m\u001b[30mProgress: [ 32%]\u001b[49m\u001b[39m [##################........................................] \u001b8\u001b7\u001b[24;0f\u001b[42m\u001b[30mProgress: [ 33%]\u001b[49m\u001b[39m [###################.......................................] \u001b8Selecting previously unselected package libcgi-fast-perl.\n",
            "Preparing to unpack .../14-libcgi-fast-perl_1%3a2.12-1_all.deb ...\n",
            "\u001b7\u001b[24;0f\u001b[42m\u001b[30mProgress: [ 34%]\u001b[49m\u001b[39m [###################.......................................] \u001b8Unpacking libcgi-fast-perl (1:2.12-1) ...\n",
            "\u001b7\u001b[24;0f\u001b[42m\u001b[30mProgress: [ 35%]\u001b[49m\u001b[39m [####################......................................] \u001b8Selecting previously unselected package libsub-name-perl.\n",
            "Preparing to unpack .../15-libsub-name-perl_0.21-1build1_amd64.deb ...\n",
            "\u001b7\u001b[24;0f\u001b[42m\u001b[30mProgress: [ 36%]\u001b[49m\u001b[39m [#####################.....................................] \u001b8Unpacking libsub-name-perl (0.21-1build1) ...\n",
            "\u001b7\u001b[24;0f\u001b[42m\u001b[30mProgress: [ 37%]\u001b[49m\u001b[39m [#####################.....................................] \u001b8\u001b7\u001b[24;0f\u001b[42m\u001b[30mProgress: [ 38%]\u001b[49m\u001b[39m [######################....................................] \u001b8Selecting previously unselected package libclass-accessor-perl.\n",
            "Preparing to unpack .../16-libclass-accessor-perl_0.34-1_all.deb ...\n",
            "Unpacking libclass-accessor-perl (0.34-1) ...\n",
            "\u001b7\u001b[24;0f\u001b[42m\u001b[30mProgress: [ 39%]\u001b[49m\u001b[39m [#######################...................................] \u001b8\u001b7\u001b[24;0f\u001b[42m\u001b[30mProgress: [ 40%]\u001b[49m\u001b[39m [#######################...................................] \u001b8Selecting previously unselected package libencode-locale-perl.\n",
            "Preparing to unpack .../17-libencode-locale-perl_1.05-1_all.deb ...\n",
            "\u001b7\u001b[24;0f\u001b[42m\u001b[30mProgress: [ 41%]\u001b[49m\u001b[39m [#######################...................................] \u001b8Unpacking libencode-locale-perl (1.05-1) ...\n",
            "\u001b7\u001b[24;0f\u001b[42m\u001b[30mProgress: [ 42%]\u001b[49m\u001b[39m [########################..................................] \u001b8Selecting previously unselected package libtimedate-perl.\n",
            "Preparing to unpack .../18-libtimedate-perl_2.3000-2_all.deb ...\n",
            "\u001b7\u001b[24;0f\u001b[42m\u001b[30mProgress: [ 43%]\u001b[49m\u001b[39m [#########################.................................] \u001b8Unpacking libtimedate-perl (2.3000-2) ...\n",
            "\u001b7\u001b[24;0f\u001b[42m\u001b[30mProgress: [ 44%]\u001b[49m\u001b[39m [#########################.................................] \u001b8\u001b7\u001b[24;0f\u001b[42m\u001b[30mProgress: [ 45%]\u001b[49m\u001b[39m [##########################................................] \u001b8Selecting previously unselected package libhttp-date-perl.\n",
            "Preparing to unpack .../19-libhttp-date-perl_6.02-1_all.deb ...\n",
            "\u001b7\u001b[24;0f\u001b[42m\u001b[30mProgress: [ 46%]\u001b[49m\u001b[39m [##########################................................] \u001b8Unpacking libhttp-date-perl (6.02-1) ...\n",
            "\u001b7\u001b[24;0f\u001b[42m\u001b[30mProgress: [ 47%]\u001b[49m\u001b[39m [###########################...............................] \u001b8Selecting previously unselected package libio-html-perl.\n",
            "Preparing to unpack .../20-libio-html-perl_1.001-1_all.deb ...\n",
            "\u001b7\u001b[24;0f\u001b[42m\u001b[30mProgress: [ 48%]\u001b[49m\u001b[39m [############################..............................] \u001b8Unpacking libio-html-perl (1.001-1) ...\n",
            "\u001b7\u001b[24;0f\u001b[42m\u001b[30mProgress: [ 49%]\u001b[49m\u001b[39m [############################..............................] \u001b8\u001b7\u001b[24;0f\u001b[42m\u001b[30mProgress: [ 50%]\u001b[49m\u001b[39m [#############################.............................] \u001b8Selecting previously unselected package liblwp-mediatypes-perl.\n",
            "Preparing to unpack .../21-liblwp-mediatypes-perl_6.02-1_all.deb ...\n",
            "Unpacking liblwp-mediatypes-perl (6.02-1) ...\n",
            "\u001b7\u001b[24;0f\u001b[42m\u001b[30mProgress: [ 51%]\u001b[49m\u001b[39m [#############################.............................] \u001b8\u001b7\u001b[24;0f\u001b[42m\u001b[30mProgress: [ 52%]\u001b[49m\u001b[39m [##############################............................] \u001b8Selecting previously unselected package libhttp-message-perl.\n",
            "Preparing to unpack .../22-libhttp-message-perl_6.11-1_all.deb ...\n",
            "\u001b7\u001b[24;0f\u001b[42m\u001b[30mProgress: [ 53%]\u001b[49m\u001b[39m [##############################............................] \u001b8Unpacking libhttp-message-perl (6.11-1) ...\n",
            "\u001b7\u001b[24;0f\u001b[42m\u001b[30mProgress: [ 54%]\u001b[49m\u001b[39m [###############################...........................] \u001b8Selecting previously unselected package libio-string-perl.\n",
            "Preparing to unpack .../23-libio-string-perl_1.08-3_all.deb ...\n",
            "\u001b7\u001b[24;0f\u001b[42m\u001b[30mProgress: [ 55%]\u001b[49m\u001b[39m [################################..........................] \u001b8Unpacking libio-string-perl (1.08-3) ...\n",
            "\u001b7\u001b[24;0f\u001b[42m\u001b[30mProgress: [ 56%]\u001b[49m\u001b[39m [################################..........................] \u001b8\u001b7\u001b[24;0f\u001b[42m\u001b[30mProgress: [ 57%]\u001b[49m\u001b[39m [#################################.........................] \u001b8Selecting previously unselected package libparse-debianchangelog-perl.\n",
            "Preparing to unpack .../24-libparse-debianchangelog-perl_1.2.0-12_all.deb ...\n",
            "Unpacking libparse-debianchangelog-perl (1.2.0-12) ...\n",
            "\u001b7\u001b[24;0f\u001b[42m\u001b[30mProgress: [ 58%]\u001b[49m\u001b[39m [##################################........................] \u001b8\u001b7\u001b[24;0f\u001b[42m\u001b[30mProgress: [ 59%]\u001b[49m\u001b[39m [##################################........................] \u001b8Setting up libhtml-tagset-perl (3.20-3) ...\n",
            "\u001b7\u001b[24;0f\u001b[42m\u001b[30mProgress: [ 60%]\u001b[49m\u001b[39m [##################################........................] \u001b8\u001b7\u001b[24;0f\u001b[42m\u001b[30mProgress: [ 61%]\u001b[49m\u001b[39m [###################################.......................] \u001b8Setting up libxapian30:amd64 (1.4.4-2) ...\n",
            "\u001b7\u001b[24;0f\u001b[42m\u001b[30mProgress: [ 62%]\u001b[49m\u001b[39m [####################################......................] \u001b8Setting up libencode-locale-perl (1.05-1) ...\n"
          ],
          "name": "stdout"
        },
        {
          "output_type": "stream",
          "text": [
            "\u001b7\u001b[24;0f\u001b[42m\u001b[30mProgress: [ 63%]\u001b[49m\u001b[39m [####################################......................] \u001b8\u001b7\u001b[24;0f\u001b[42m\u001b[30mProgress: [ 64%]\u001b[49m\u001b[39m [#####################################.....................] \u001b8Setting up libtimedate-perl (2.3000-2) ...\r\n",
            "\u001b7\u001b[24;0f\u001b[42m\u001b[30mProgress: [ 65%]\u001b[49m\u001b[39m [#####################################.....................] \u001b8Setting up libio-html-perl (1.001-1) ...\r\n",
            "\u001b7\u001b[24;0f\u001b[42m\u001b[30mProgress: [ 66%]\u001b[49m\u001b[39m [######################################....................] \u001b8\u001b7\u001b[24;0f\u001b[42m\u001b[30mProgress: [ 67%]\u001b[49m\u001b[39m [#######################################...................] \u001b8Setting up aptitude-common (0.8.3-1ubuntu4) ...\n",
            "\u001b7\u001b[24;0f\u001b[42m\u001b[30mProgress: [ 68%]\u001b[49m\u001b[39m [#######################################...................] \u001b8\u001b7\u001b[24;0f\u001b[42m\u001b[30mProgress: [ 69%]\u001b[49m\u001b[39m [########################################..................] \u001b8Setting up libboost-iostreams1.62.0:amd64 (1.62.0+dfsg-4build3) ...\n",
            "\u001b7\u001b[24;0f\u001b[42m\u001b[30mProgress: [ 70%]\u001b[49m\u001b[39m [########################################..................] \u001b8Setting up liblwp-mediatypes-perl (6.02-1) ...\n",
            "\u001b7\u001b[24;0f\u001b[42m\u001b[30mProgress: [ 71%]\u001b[49m\u001b[39m [#########################################.................] \u001b8\u001b7\u001b[24;0f\u001b[42m\u001b[30mProgress: [ 72%]\u001b[49m\u001b[39m [#########################################.................] \u001b8Processing triggers for libc-bin (2.26-0ubuntu2.1) ...\n",
            "Setting up liburi-perl (1.72-1) ...\n",
            "\u001b7\u001b[24;0f\u001b[42m\u001b[30mProgress: [ 73%]\u001b[49m\u001b[39m [##########################################................] \u001b8Setting up libhtml-parser-perl (3.72-3build1) ...\n",
            "\u001b7\u001b[24;0f\u001b[42m\u001b[30mProgress: [ 74%]\u001b[49m\u001b[39m [###########################################...............] \u001b8\u001b7\u001b[24;0f\u001b[42m\u001b[30mProgress: [ 75%]\u001b[49m\u001b[39m [###########################################...............] \u001b8Setting up libcgi-pm-perl (4.36-1) ...\n",
            "\u001b7\u001b[24;0f\u001b[42m\u001b[30mProgress: [ 76%]\u001b[49m\u001b[39m [############################################..............] \u001b8Setting up libio-string-perl (1.08-3) ...\n",
            "\u001b7\u001b[24;0f\u001b[42m\u001b[30mProgress: [ 77%]\u001b[49m\u001b[39m [#############################################.............] \u001b8\u001b7\u001b[24;0f\u001b[42m\u001b[30mProgress: [ 78%]\u001b[49m\u001b[39m [#############################################.............] \u001b8Setting up liblocale-gettext-perl (1.07-3build2) ...\n",
            "\u001b7\u001b[24;0f\u001b[42m\u001b[30mProgress: [ 79%]\u001b[49m\u001b[39m [##############################################............] \u001b8\u001b7\u001b[24;0f\u001b[42m\u001b[30mProgress: [ 80%]\u001b[49m\u001b[39m [##############################################............] \u001b8Setting up libsub-name-perl (0.21-1build1) ...\n",
            "\u001b7\u001b[24;0f\u001b[42m\u001b[30mProgress: [ 81%]\u001b[49m\u001b[39m [###############################################...........] \u001b8Setting up libfcgi-perl (0.78-2build1) ...\n",
            "\u001b7\u001b[24;0f\u001b[42m\u001b[30mProgress: [ 82%]\u001b[49m\u001b[39m [###############################################...........] \u001b8\u001b7\u001b[24;0f\u001b[42m\u001b[30mProgress: [ 83%]\u001b[49m\u001b[39m [################################################..........] \u001b8Setting up libsigc++-2.0-0v5:amd64 (2.10.0-1) ...\n",
            "\u001b7\u001b[24;0f\u001b[42m\u001b[30mProgress: [ 84%]\u001b[49m\u001b[39m [################################################..........] \u001b8Setting up libclass-accessor-perl (0.34-1) ...\n",
            "\u001b7\u001b[24;0f\u001b[42m\u001b[30mProgress: [ 85%]\u001b[49m\u001b[39m [#################################################.........] \u001b8\u001b7\u001b[24;0f\u001b[42m\u001b[30mProgress: [ 86%]\u001b[49m\u001b[39m [##################################################........] \u001b8Setting up libboost-system1.62.0:amd64 (1.62.0+dfsg-4build3) ...\n",
            "\u001b7\u001b[24;0f\u001b[42m\u001b[30mProgress: [ 87%]\u001b[49m\u001b[39m [##################################################........] \u001b8\u001b7\u001b[24;0f\u001b[42m\u001b[30mProgress: [ 88%]\u001b[49m\u001b[39m [###################################################.......] \u001b8Setting up libhttp-date-perl (6.02-1) ...\n",
            "\u001b7\u001b[24;0f\u001b[42m\u001b[30mProgress: [ 89%]\u001b[49m\u001b[39m [####################################################......] \u001b8Setting up libcgi-fast-perl (1:2.12-1) ...\n",
            "\u001b7\u001b[24;0f\u001b[42m\u001b[30mProgress: [ 90%]\u001b[49m\u001b[39m [####################################################......] \u001b8\u001b7\u001b[24;0f\u001b[42m\u001b[30mProgress: [ 91%]\u001b[49m\u001b[39m [####################################################......] \u001b8Setting up libboost-filesystem1.62.0:amd64 (1.62.0+dfsg-4build3) ...\n",
            "\u001b7\u001b[24;0f\u001b[42m\u001b[30mProgress: [ 92%]\u001b[49m\u001b[39m [#####################################################.....] \u001b8Setting up libparse-debianchangelog-perl (1.2.0-12) ...\n",
            "\u001b7\u001b[24;0f\u001b[42m\u001b[30mProgress: [ 93%]\u001b[49m\u001b[39m [######################################################....] \u001b8\u001b7\u001b[24;0f\u001b[42m\u001b[30mProgress: [ 94%]\u001b[49m\u001b[39m [######################################################....] \u001b8Setting up libhttp-message-perl (6.11-1) ...\n",
            "\u001b7\u001b[24;0f\u001b[42m\u001b[30mProgress: [ 95%]\u001b[49m\u001b[39m [#######################################################...] \u001b8\u001b7\u001b[24;0f\u001b[42m\u001b[30mProgress: [ 96%]\u001b[49m\u001b[39m [#######################################################...] \u001b8Setting up libcwidget3v5:amd64 (0.5.17-6) ...\n",
            "\u001b7\u001b[24;0f\u001b[42m\u001b[30mProgress: [ 97%]\u001b[49m\u001b[39m [########################################################..] \u001b8Setting up aptitude (0.8.3-1ubuntu4) ...\n",
            "\u001b7\u001b[24;0f\u001b[42m\u001b[30mProgress: [ 98%]\u001b[49m\u001b[39m [#########################################################.] \u001b8update-alternatives: using /usr/bin/aptitude-curses to provide /usr/bin/aptitude (aptitude) in auto mode\n",
            "\u001b7\u001b[24;0f\u001b[42m\u001b[30mProgress: [ 99%]\u001b[49m\u001b[39m [#########################################################.] \u001b8Processing triggers for libc-bin (2.26-0ubuntu2.1) ...\n",
            "\n",
            "git is already installed at the requested version (1:2.14.1-1ubuntu4)\n",
            "make is already installed at the requested version (4.1-9.1)\n",
            "curl is already installed at the requested version (7.55.1-1ubuntu2.3)\n",
            "xz-utils is already installed at the requested version (5.2.2-1.3)\n",
            "git is already installed at the requested version (1:2.14.1-1ubuntu4)\n",
            "make is already installed at the requested version (4.1-9.1)\n",
            "curl is already installed at the requested version (7.55.1-1ubuntu2.3)\n",
            "xz-utils is already installed at the requested version (5.2.2-1.3)\n",
            "The following NEW packages will be installed:\n",
            "  file libmagic-mgc{a} libmagic1{a} libmecab-dev libmecab2{a} mecab \n",
            "  mecab-ipadic{a} mecab-ipadic-utf8 mecab-jumandic{a} \n",
            "  mecab-jumandic-utf8{a} mecab-utils{a} \n",
            "0 packages upgraded, 11 newly installed, 0 to remove and 0 not upgraded.\n",
            "Need to get 29.2 MB of archives. After unpacking 281 MB will be used.\n",
            "[100%] Writing extended state information"
          ],
          "name": "stdout"
        },
        {
          "output_type": "stream",
          "text": [
            "Get: 1 http://archive.ubuntu.com/ubuntu artful/main amd64 libmagic-mgc amd64 1:5.32-1 [184 kB]\n",
            "Get: 2 http://archive.ubuntu.com/ubuntu artful/main amd64 libmagic1 amd64 1:5.32-1 [68.4 kB]\n",
            "Get: 3 http://archive.ubuntu.com/ubuntu artful/main amd64 file amd64 1:5.32-1 [22.0 kB]\n",
            "Get: 4 http://archive.ubuntu.com/ubuntu artful/universe amd64 libmecab2 amd64 0.996-3.1 [256 kB]\n",
            "Get: 5 http://archive.ubuntu.com/ubuntu artful/universe amd64 libmecab-dev amd64 0.996-3.1 [307 kB]\n",
            "Get: 6 http://archive.ubuntu.com/ubuntu artful/universe amd64 mecab-utils amd64 0.996-3.1 [4,750 B]\n",
            "Get: 7 http://archive.ubuntu.com/ubuntu artful/universe amd64 mecab-jumandic-utf8 all 7.0-20130310-3 [16.1 MB]\n",
            "Get: 8 http://archive.ubuntu.com/ubuntu artful/universe amd64 mecab-jumandic all 7.0-20130310-3 [2,044 B]\n",
            "Get: 9 http://archive.ubuntu.com/ubuntu artful/universe amd64 mecab-ipadic all 2.7.0-20070801+main-1 [12.1 MB]\n",
            "Get: 10 http://archive.ubuntu.com/ubuntu artful/universe amd64 mecab amd64 0.996-3.1 [83.6 kB]\n",
            "Get: 11 http://archive.ubuntu.com/ubuntu artful/universe amd64 mecab-ipadic-utf8 all 2.7.0-20070801+main-1 [3,522 B]\n",
            "Fetched 29.2 MB in 2s (10.0 MB/s)\n",
            "Selecting previously unselected package libmagic-mgc.\n",
            "(Reading database ... 17202 files and directories currently installed.)\n",
            "Preparing to unpack .../00-libmagic-mgc_1%3a5.32-1_amd64.deb ...\n",
            "Unpacking libmagic-mgc (1:5.32-1) ...\n",
            "Selecting previously unselected package libmagic1:amd64.\n",
            "Preparing to unpack .../01-libmagic1_1%3a5.32-1_amd64.deb ...\n",
            "Unpacking libmagic1:amd64 (1:5.32-1) ...\n",
            "Selecting previously unselected package file.\n",
            "Preparing to unpack .../02-file_1%3a5.32-1_amd64.deb ...\n",
            "Unpacking file (1:5.32-1) ...\n",
            "Selecting previously unselected package libmecab2:amd64.\n",
            "Preparing to unpack .../03-libmecab2_0.996-3.1_amd64.deb ...\n",
            "Unpacking libmecab2:amd64 (0.996-3.1) ...\n",
            "Selecting previously unselected package libmecab-dev.\n",
            "Preparing to unpack .../04-libmecab-dev_0.996-3.1_amd64.deb ...\n",
            "Unpacking libmecab-dev (0.996-3.1) ...\n",
            "Selecting previously unselected package mecab-utils.\n",
            "Preparing to unpack .../05-mecab-utils_0.996-3.1_amd64.deb ...\n",
            "Unpacking mecab-utils (0.996-3.1) ...\n",
            "Selecting previously unselected package mecab-jumandic-utf8.\n",
            "Preparing to unpack .../06-mecab-jumandic-utf8_7.0-20130310-3_all.deb ...\n",
            "Unpacking mecab-jumandic-utf8 (7.0-20130310-3) ...\n",
            "Selecting previously unselected package mecab-jumandic.\n",
            "Preparing to unpack .../07-mecab-jumandic_7.0-20130310-3_all.deb ...\n",
            "Unpacking mecab-jumandic (7.0-20130310-3) ...\n",
            "Selecting previously unselected package mecab-ipadic.\n",
            "Preparing to unpack .../08-mecab-ipadic_2.7.0-20070801+main-1_all.deb ...\n",
            "Unpacking mecab-ipadic (2.7.0-20070801+main-1) ...\n",
            "Selecting previously unselected package mecab.\n",
            "Preparing to unpack .../09-mecab_0.996-3.1_amd64.deb ...\n",
            "Unpacking mecab (0.996-3.1) ...\n",
            "Selecting previously unselected package mecab-ipadic-utf8.\n",
            "Preparing to unpack .../10-mecab-ipadic-utf8_2.7.0-20070801+main-1_all.deb ...\n",
            "Unpacking mecab-ipadic-utf8 (2.7.0-20070801+main-1) ...\n",
            "Setting up libmecab2:amd64 (0.996-3.1) ...\n",
            "Setting up libmagic-mgc (1:5.32-1) ...\n",
            "Setting up libmagic1:amd64 (1:5.32-1) ...\n",
            "Processing triggers for libc-bin (2.26-0ubuntu2.1) ...\n",
            "Setting up mecab-utils (0.996-3.1) ...\n",
            "Setting up mecab-ipadic (2.7.0-20070801+main-1) ...\n",
            "Compiling IPA dictionary for Mecab.  This takes long time...\n",
            "reading /usr/share/mecab/dic/ipadic/unk.def ... 40\n",
            "emitting double-array: 100% |###########################################| \n",
            "/usr/share/mecab/dic/ipadic/model.def is not found. skipped.\n",
            "reading /usr/share/mecab/dic/ipadic/Interjection.csv ... 252\n",
            "reading /usr/share/mecab/dic/ipadic/Filler.csv ... 19\n",
            "reading /usr/share/mecab/dic/ipadic/Postp-col.csv ... 91\n",
            "reading /usr/share/mecab/dic/ipadic/Noun.adjv.csv ... 3328\n",
            "reading /usr/share/mecab/dic/ipadic/Noun.name.csv ... 34202\n",
            "reading /usr/share/mecab/dic/ipadic/Adnominal.csv ... 135\n",
            "reading /usr/share/mecab/dic/ipadic/Adj.csv ... 27210\n",
            "reading /usr/share/mecab/dic/ipadic/Noun.nai.csv ... 42\n",
            "reading /usr/share/mecab/dic/ipadic/Auxil.csv ... 199\n",
            "reading /usr/share/mecab/dic/ipadic/Adverb.csv ... 3032\n",
            "reading /usr/share/mecab/dic/ipadic/Conjunction.csv ... 171\n",
            "reading /usr/share/mecab/dic/ipadic/Others.csv ... 2\n",
            "reading /usr/share/mecab/dic/ipadic/Noun.csv ... 60477\n",
            "reading /usr/share/mecab/dic/ipadic/Noun.proper.csv ... 27327\n",
            "reading /usr/share/mecab/dic/ipadic/Suffix.csv ... 1393\n",
            "reading /usr/share/mecab/dic/ipadic/Noun.org.csv ... 16668\n",
            "reading /usr/share/mecab/dic/ipadic/Verb.csv ... 130750\n",
            "reading /usr/share/mecab/dic/ipadic/Noun.demonst.csv ... 120\n",
            "reading /usr/share/mecab/dic/ipadic/Symbol.csv ... 208\n",
            "reading /usr/share/mecab/dic/ipadic/Noun.number.csv ... 42\n",
            "reading /usr/share/mecab/dic/ipadic/Noun.place.csv ... 72999\n",
            "reading /usr/share/mecab/dic/ipadic/Noun.adverbal.csv ... 795\n",
            "reading /usr/share/mecab/dic/ipadic/Noun.verbal.csv ... 12146\n",
            "reading /usr/share/mecab/dic/ipadic/Postp.csv ... 146\n",
            "reading /usr/share/mecab/dic/ipadic/Noun.others.csv ... 151\n",
            "reading /usr/share/mecab/dic/ipadic/Prefix.csv ... 221\n",
            "emitting double-array: 100% |###########################################| \n"
          ],
          "name": "stdout"
        },
        {
          "output_type": "stream",
          "text": [
            "reading /usr/share/mecab/dic/ipadic/matrix.def ... 1316x1316\n",
            "emitting matrix      : 100% |###########################################| \n",
            "\n",
            "done!\n",
            "update-alternatives: using /var/lib/mecab/dic/ipadic to provide /var/lib/mecab/dic/debian (mecab-dictionary) in auto mode\n",
            "Setting up libmecab-dev (0.996-3.1) ...\n",
            "Setting up file (1:5.32-1) ...\n",
            "Setting up mecab-jumandic-utf8 (7.0-20130310-3) ...\n",
            "Compiling Juman dictionary for Mecab.\n",
            "reading /usr/share/mecab/dic/juman/unk.def ... 37\n",
            "emitting double-array: 100% |###########################################| \n",
            "reading /usr/share/mecab/dic/juman/Demonstrative.csv ... 97\n",
            "reading /usr/share/mecab/dic/juman/Noun.koyuu.csv ... 7964\n",
            "reading /usr/share/mecab/dic/juman/ContentW.csv ... 551145\n",
            "reading /usr/share/mecab/dic/juman/Special.csv ... 158\n",
            "reading /usr/share/mecab/dic/juman/Noun.keishiki.csv ... 8\n",
            "reading /usr/share/mecab/dic/juman/Suffix.csv ... 2128\n",
            "reading /usr/share/mecab/dic/juman/Assert.csv ... 34\n",
            "reading /usr/share/mecab/dic/juman/Noun.hukusi.csv ... 81\n",
            "reading /usr/share/mecab/dic/juman/Emoticon.csv ... 972\n",
            "reading /usr/share/mecab/dic/juman/Noun.suusi.csv ... 49\n",
            "reading /usr/share/mecab/dic/juman/AuxV.csv ... 593\n",
            "reading /usr/share/mecab/dic/juman/Wikipedia.csv ... 167709\n",
            "reading /usr/share/mecab/dic/juman/Auto.csv ... 18931\n",
            "reading /usr/share/mecab/dic/juman/Postp.csv ... 108\n",
            "reading /usr/share/mecab/dic/juman/Prefix.csv ... 90\n",
            "reading /usr/share/mecab/dic/juman/Rengo.csv ... 1118\n",
            "emitting double-array: 100% |###########################################| \n",
            "reading /usr/share/mecab/dic/juman/matrix.def ... 1876x1876\n",
            "emitting matrix      : 100% |###########################################| \n",
            "\n",
            "done!\n",
            "Setting up mecab-ipadic-utf8 (2.7.0-20070801+main-1) ...\n",
            "Compiling IPA dictionary for Mecab.  This takes long time...\n",
            "reading /usr/share/mecab/dic/ipadic/unk.def ... 40\n",
            "emitting double-array: 100% |###########################################| \n",
            "/usr/share/mecab/dic/ipadic/model.def is not found. skipped.\n",
            "reading /usr/share/mecab/dic/ipadic/Interjection.csv ... 252\n",
            "reading /usr/share/mecab/dic/ipadic/Filler.csv ... 19\n",
            "reading /usr/share/mecab/dic/ipadic/Postp-col.csv ... 91\n",
            "reading /usr/share/mecab/dic/ipadic/Noun.adjv.csv ... 3328\n",
            "reading /usr/share/mecab/dic/ipadic/Noun.name.csv ... 34202\n",
            "reading /usr/share/mecab/dic/ipadic/Adnominal.csv ... 135\n",
            "reading /usr/share/mecab/dic/ipadic/Adj.csv ... 27210\n",
            "reading /usr/share/mecab/dic/ipadic/Noun.nai.csv ... 42\n",
            "reading /usr/share/mecab/dic/ipadic/Auxil.csv ... 199\n",
            "reading /usr/share/mecab/dic/ipadic/Adverb.csv ... 3032\n",
            "reading /usr/share/mecab/dic/ipadic/Conjunction.csv ... 171\n",
            "reading /usr/share/mecab/dic/ipadic/Others.csv ... 2\n",
            "reading /usr/share/mecab/dic/ipadic/Noun.csv ... 60477\n",
            "reading /usr/share/mecab/dic/ipadic/Noun.proper.csv ... 27327\n",
            "reading /usr/share/mecab/dic/ipadic/Suffix.csv ... 1393\n",
            "reading /usr/share/mecab/dic/ipadic/Noun.org.csv ... 16668\n",
            "reading /usr/share/mecab/dic/ipadic/Verb.csv ... 130750\n",
            "reading /usr/share/mecab/dic/ipadic/Noun.demonst.csv ... 120\n",
            "reading /usr/share/mecab/dic/ipadic/Symbol.csv ... 208\n",
            "reading /usr/share/mecab/dic/ipadic/Noun.number.csv ... 42\n",
            "reading /usr/share/mecab/dic/ipadic/Noun.place.csv ... 72999\n",
            "reading /usr/share/mecab/dic/ipadic/Noun.adverbal.csv ... 795\n",
            "reading /usr/share/mecab/dic/ipadic/Noun.verbal.csv ... 12146\n",
            "reading /usr/share/mecab/dic/ipadic/Postp.csv ... 146\n",
            "reading /usr/share/mecab/dic/ipadic/Noun.others.csv ... 151\n",
            "reading /usr/share/mecab/dic/ipadic/Prefix.csv ... 221\n",
            "emitting double-array: 100% |###########################################| \n",
            "reading /usr/share/mecab/dic/ipadic/matrix.def ... 1316x1316\n",
            "emitting matrix      : 100% |###########################################| \n",
            "\n",
            "done!\n",
            "update-alternatives: using /var/lib/mecab/dic/ipadic-utf8 to provide /var/lib/mecab/dic/debian (mecab-dictionary) in auto mode\n",
            "Setting up mecab (0.996-3.1) ...\n"
          ],
          "name": "stdout"
        },
        {
          "output_type": "stream",
          "text": [
            "Compiling IPA dictionary for Mecab.  This takes long time...\r\n",
            "reading /usr/share/mecab/dic/ipadic/unk.def ... 40\r\n",
            "emitting double-array:   9% |###                                        | \remitting double-array:  18% |#######                                    | \remitting double-array:  27% |###########                                | \remitting double-array:  36% |###############                            | \remitting double-array:  45% |###################                        | \remitting double-array:  54% |#######################                    | \remitting double-array:  63% |###########################                | \remitting double-array:  72% |###############################            | \remitting double-array:  81% |###################################        | \remitting double-array:  90% |#######################################    | \remitting double-array: 100% |###########################################| \r\n",
            "/usr/share/mecab/dic/ipadic/model.def is not found. skipped.\r\n",
            "reading /usr/share/mecab/dic/ipadic/Interjection.csv ... 252\r\n",
            "reading /usr/share/mecab/dic/ipadic/Filler.csv ... 19\r\n",
            "reading /usr/share/mecab/dic/ipadic/Postp-col.csv ... 91\r\n",
            "reading /usr/share/mecab/dic/ipadic/Noun.adjv.csv ... 3328\n",
            "reading /usr/share/mecab/dic/ipadic/Noun.name.csv ... 34202\n",
            "reading /usr/share/mecab/dic/ipadic/Adnominal.csv ... 135\n",
            "reading /usr/share/mecab/dic/ipadic/Adj.csv ... 27210\n",
            "reading /usr/share/mecab/dic/ipadic/Noun.nai.csv ... 42\n",
            "reading /usr/share/mecab/dic/ipadic/Auxil.csv ... 199\n",
            "reading /usr/share/mecab/dic/ipadic/Adverb.csv ... 3032\n",
            "reading /usr/share/mecab/dic/ipadic/Conjunction.csv ... 171\n",
            "reading /usr/share/mecab/dic/ipadic/Others.csv ... 2\n",
            "reading /usr/share/mecab/dic/ipadic/Noun.csv ... 60477\n",
            "reading /usr/share/mecab/dic/ipadic/Noun.proper.csv ... 27327\n",
            "reading /usr/share/mecab/dic/ipadic/Suffix.csv ... 1393\n",
            "reading /usr/share/mecab/dic/ipadic/Noun.org.csv ... 16668\n",
            "reading /usr/share/mecab/dic/ipadic/Verb.csv ... 130750\n",
            "reading /usr/share/mecab/dic/ipadic/Noun.demonst.csv ... 120\n",
            "reading /usr/share/mecab/dic/ipadic/Symbol.csv ... 208\n",
            "reading /usr/share/mecab/dic/ipadic/Noun.number.csv ... 42\n",
            "reading /usr/share/mecab/dic/ipadic/Noun.place.csv ... 72999\n",
            "reading /usr/share/mecab/dic/ipadic/Noun.adverbal.csv ... 795\n",
            "reading /usr/share/mecab/dic/ipadic/Noun.verbal.csv ... 12146\n",
            "reading /usr/share/mecab/dic/ipadic/Postp.csv ... 146\n",
            "reading /usr/share/mecab/dic/ipadic/Noun.others.csv ... 151\n",
            "reading /usr/share/mecab/dic/ipadic/Prefix.csv ... 221\n",
            "emitting double-array: 100% |###########################################| \n",
            "reading /usr/share/mecab/dic/ipadic/matrix.def ... 1316x1316\n",
            "emitting matrix      : 100% |###########################################| \n",
            "\n",
            "done!\n",
            "Setting up mecab-jumandic (7.0-20130310-3) ...\n",
            "                            \n",
            "Collecting mecab-python3\n",
            "  Downloading mecab-python3-0.7.tar.gz (41kB)\n",
            "\u001b[K    100% |████████████████████████████████| 51kB 3.5MB/s \n",
            "\u001b[?25hBuilding wheels for collected packages: mecab-python3\n",
            "  Running setup.py bdist_wheel for mecab-python3 ... \u001b[?25l-\b \b\\\b \b|\b \b/\b \bdone\n",
            "\u001b[?25h  Stored in directory: /content/.cache/pip/wheels/6f/0e/eb/962d0d0c1ed7e2e03b9ff2ed186ab3034053b0e970cd04005c\n",
            "Successfully built mecab-python3\n",
            "Installing collected packages: mecab-python3\n",
            "Successfully installed mecab-python3-0.7\n"
          ],
          "name": "stdout"
        }
      ]
    },
    {
      "metadata": {
        "id": "N506cwfbwxYU",
        "colab_type": "text"
      },
      "cell_type": "markdown",
      "source": [
        "* mecabを使用してみる"
      ]
    },
    {
      "metadata": {
        "id": "xHzi3oxQRTMS",
        "colab_type": "code",
        "colab": {
          "autoexec": {
            "startup": false,
            "wait_interval": 0
          },
          "output_extras": [
            {
              "item_id": 1
            }
          ],
          "base_uri": "https://localhost:8080/",
          "height": 102
        },
        "outputId": "f7ab5598-75b0-4586-c96c-4bbfb3d64dfe",
        "executionInfo": {
          "status": "ok",
          "timestamp": 1522588669195,
          "user_tz": -540,
          "elapsed": 506,
          "user": {
            "displayName": "Hideto Masuoka",
            "photoUrl": "//lh3.googleusercontent.com/-Y7n_AGUpC1c/AAAAAAAAAAI/AAAAAAAAAKw/44zYMMtU6PY/s50-c-k-no/photo.jpg",
            "userId": "110996608761765296178"
          }
        }
      },
      "cell_type": "code",
      "source": [
        "import MeCab\n",
        "m = MeCab.Tagger (\"-Ochasen\")\n",
        "print (m.parse (\"なのはちゃんかわいい\"))"
      ],
      "execution_count": 12,
      "outputs": [
        {
          "output_type": "stream",
          "text": [
            "なのは\tナノハ\tなのは\t名詞-固有名詞-人名-一般\t\t\n",
            "ちゃん\tチャン\tちゃん\t名詞-接尾-人名\t\t\n",
            "かわいい\tカワイイ\tかわいい\t形容詞-自立\t形容詞・イ段\t基本形\n",
            "EOS\n",
            "\n"
          ],
          "name": "stdout"
        }
      ]
    },
    {
      "metadata": {
        "id": "sOeMPPqxxKSp",
        "colab_type": "text"
      },
      "cell_type": "markdown",
      "source": [
        "* 好きなことばを入れてみよう"
      ]
    },
    {
      "metadata": {
        "id": "myGQwaRTxQhQ",
        "colab_type": "code",
        "colab": {
          "autoexec": {
            "startup": false,
            "wait_interval": 0
          }
        }
      },
      "cell_type": "code",
      "source": [
        "import MeCab\n",
        "m = MeCab.Tagger (\"-Ochasen\")\n",
        "print (m.parse (\"\"))"
      ],
      "execution_count": 0,
      "outputs": []
    },
    {
      "metadata": {
        "id": "M7tRedkpo-qO",
        "colab_type": "text"
      },
      "cell_type": "markdown",
      "source": [
        "## NEologdをインストール"
      ]
    },
    {
      "metadata": {
        "id": "Nxi60k4lwEam",
        "colab_type": "text"
      },
      "cell_type": "markdown",
      "source": [
        "* NEologdをダウンロードし、解凍する"
      ]
    },
    {
      "metadata": {
        "id": "nwf8i1uPRGx4",
        "colab_type": "code",
        "colab": {
          "autoexec": {
            "startup": false,
            "wait_interval": 0
          },
          "output_extras": [
            {
              "item_id": 34
            }
          ],
          "base_uri": "https://localhost:8080/",
          "height": 204
        },
        "outputId": "65279393-a072-44a1-ad41-d2c2a9d5d22b",
        "executionInfo": {
          "status": "ok",
          "timestamp": 1522591611609,
          "user_tz": -540,
          "elapsed": 35411,
          "user": {
            "displayName": "Hideto Masuoka",
            "photoUrl": "//lh3.googleusercontent.com/-Y7n_AGUpC1c/AAAAAAAAAAI/AAAAAAAAAKw/44zYMMtU6PY/s50-c-k-no/photo.jpg",
            "userId": "110996608761765296178"
          }
        }
      },
      "cell_type": "code",
      "source": [
        "!git clone --depth 1 https://github.com/neologd/mecab-ipadic-neologd.git\n",
        "!xz -dkv mecab-ipadic-neologd/seed/mecab-user-dict-seed.*.csv.xz\n"
      ],
      "execution_count": 2,
      "outputs": [
        {
          "output_type": "stream",
          "text": [
            "Cloning into 'mecab-ipadic-neologd'...\n",
            "remote: Counting objects: 72, done.\u001b[K\n",
            "remote: Compressing objects: 100% (71/71), done.\u001b[K\n",
            "remote: Total 72 (delta 5), reused 51 (delta 0), pack-reused 0\u001b[K\n",
            "Unpacking objects: 100% (72/72), done.\n",
            "mecab-ipadic-neologd/seed/mecab-user-dict-seed.20180322.csv.xz (1/1)\n",
            "  100 %        37.5 MiB / 473.1 MiB = 0.079    97 MiB/s       0:04             \n",
            "reading mecab-ipadic-neologd/seed/mecab-user-dict-seed.20180322.csv ... 3108022\n",
            "emitting double-array: 100% |###########################################| \n",
            "\n",
            "done!\n"
          ],
          "name": "stdout"
        }
      ]
    },
    {
      "metadata": {
        "id": "NwRf8rJAwfCL",
        "colab_type": "text"
      },
      "cell_type": "markdown",
      "source": [
        "* NEologd を mecabのユーザー辞書の追加する。日付は任意の値になる"
      ]
    },
    {
      "metadata": {
        "id": "vi4s1Qa0hA22",
        "colab_type": "code",
        "colab": {
          "autoexec": {
            "startup": false,
            "wait_interval": 0
          }
        }
      },
      "cell_type": "code",
      "source": [
        "!/usr/lib/mecab/mecab-dict-index -d /usr/share/mecab/dic/ipadic -u mecab-user-dict-seed.20180322.dic -f utf-8 -t utf-8 mecab-ipadic-neologd/seed/mecab-user-dict-seed.20180322.csv\n",
        "!cp -p ./mecab-user-dict-seed.20180322.dic /usr/share/mecab/dic/\n",
        "!echo \"userdic = /usr/share/mecab/dic/mecab-user-dict-seed.20180322.dic\" >> /etc/mecabrc"
      ],
      "execution_count": 0,
      "outputs": []
    },
    {
      "metadata": {
        "id": "O7pW48c2xhXs",
        "colab_type": "text"
      },
      "cell_type": "markdown",
      "source": [
        "* Mecabを使ってみる"
      ]
    },
    {
      "metadata": {
        "id": "81TgwVedxfKq",
        "colab_type": "code",
        "colab": {
          "autoexec": {
            "startup": false,
            "wait_interval": 0
          }
        }
      },
      "cell_type": "code",
      "source": [
        "import MeCab\n",
        "m = MeCab.Tagger (\"-Ochasen\")\n",
        "print (m.parse (\"なのはちゃんかわいい\"))"
      ],
      "execution_count": 0,
      "outputs": []
    }
  ]
}
